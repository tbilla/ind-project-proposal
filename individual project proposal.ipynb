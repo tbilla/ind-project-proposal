{
 "cells": [
  {
   "cell_type": "markdown",
   "id": "9ccdd714",
   "metadata": {},
   "source": [
    "# Individual Project Proposal"
   ]
  },
  {
   "cell_type": "markdown",
   "id": "2d5316a8",
   "metadata": {},
   "source": [
    "## Analysis 1: Impact of Social Connection on Life Satisfaction\n",
    "**Research Question:** How do different forms of social connection activities correlate with overall life satisfaction?\n",
    "\n",
    "**Variables to Explore:**\n",
    "- Dependent variable: `WELLNESS_life_satisfaction`\n",
    "- Independent variables: `CONNECTION_activities_talked_family_p3m`, `CONNECTION_activities_video_chat_p3m`, `CONNECTION_activities_visited_friends_p3m`\n",
    "\n",
    "**Exploration Plan:**\n",
    "These variables will be explored using correlation analysis and multiple linear regression. Visualizations such as scatter plots and boxplots will be used to illustrate the relationship between life satisfaction and the types of social connections. A heatmap will also be created to show correlations.\n",
    "\n",
    "**Justification:**\n",
    "Understanding which social interactions have the strongest association with life satisfaction can highlight areas for public health focus. Scatter plots can reveal trends, and boxplots will indicate distribution differences among groups.\n",
    "\n",
    "**Hypothesis:**\n",
    "I hypothesize that participants with higher frequencies of social connection activities will report greater life satisfaction. If confirmed, this would emphasize the importance of fostering social interactions for well-being.\n",
    "\n",
    "## Analysis 2: Burnout and Preventive Health Measures During COVID-19\n",
    "**Research Question:** What is the relationship between COVID-19 preventive measures and burnout symptoms?\n",
    "\n",
    "**Variables to Explore:**\n",
    "- Dependent variables: `WELLNESS_malach_pines_burnout_measure_tired`, `WELLNESS_malach_pines_burnout_measure_depressed`\n",
    "- Independent variables: `COVID_prevention_distancing`, `COVID_prevention_masks`, `COVID_prevention_hand_washing`\n",
    "\n",
    "**Exploration Plan:**\n",
    "I will use logistic regression to assess the impact of preventive measures on burnout levels. Summary statistics and bar charts will provide an initial overview of each variable’s distribution.\n",
    "\n",
    "**Justification:**\n",
    "Analyzing this relationship could reveal whether stringent preventive health measures contribute to feelings of burnout. This insight could be valuable for managing future public health responses.\n",
    "\n",
    "**Hypothesis:**\n",
    "I predict that participants engaging in more preventive measures may show higher burnout levels due to the added stress and isolation. Validating this could inform strategies to mitigate negative impacts while maintaining public safety.\n",
    "\n",
    "## Analysis 3: Communication Modes and Mental Health Indicators\n",
    "**Research Question:** Is there an association between different communication modes and reported mental health issues such as difficulty sleeping?\n",
    "\n",
    "**Variables to Explore:**\n",
    "- Dependent variable: `WELLNESS_malach_pines_burnout_measure_difficulty_sleeping`\n",
    "- Independent variables: `CONNECTION_activities_phone_p3m`, `CONNECTION_activities_text_or_messaged_p3m`, `CONNECTION_activities_video_chat_p3m`\n",
    "\n",
    "**Exploration Plan:**\n",
    "This analysis will employ chi-square tests for independence to explore relationships between communication methods and sleeping difficulties. Cross-tabulations and bar graphs will illustrate the prevalence of these connections.\n",
    "\n",
    "**Justification:**\n",
    "Determining whether digital communication methods correlate with sleep issues can offer practical insights into balancing technology use and mental health.\n",
    "\n",
    "**Hypothesis:**\n",
    "I hypothesize that frequent digital communication (e.g., video chats) may be associated with higher reported sleep difficulties due to potential overstimulation or late-night interactions. If proven, this could guide recommendations for digital detox strategies.\n",
    "\n",
    "**Submission Note:**\n",
    "The proposal will be completed as a Jupyter Notebook, including these outlined analyses, and submitted as a GitHub repository link as per course requirements.\n",
    "\n",
    "---\n",
    "\n",
    "Please let me know if you need any further help or adjustments!"
   ]
  },
  {
   "cell_type": "code",
   "execution_count": null,
   "id": "8e1a18e0",
   "metadata": {},
   "outputs": [],
   "source": []
  },
  {
   "cell_type": "markdown",
   "id": "305144b0",
   "metadata": {},
   "source": [
    "# Individual Project Proposal for STA130\n",
    "\n",
    "## Analysis 1: Impact of Making New Friends on Life Satisfaction\n",
    "Research Question: How does the frequency of making new friends correlate with overall life satisfaction?\n",
    "\n",
    "Variables to Explore:\n",
    "- Dependent variable: \"WELLNESS_life_satisfaction\"\n",
    "- Independent variable: \"CONNECTION_activities_new_friend_p3m\"\n",
    "\n",
    "Exploration Plan:\n",
    "This variable will be explored using correlation analysis and simple linear regression. Visualizations such as scatter plots and boxplots will be used to illustrate the relationship between life satisfaction and the frequency of making new friends. A heatmap will also be created to show correlations.\n",
    "\n",
    "Justification:\n",
    "Understanding the specific impact of forming new friendships on life satisfaction can highlight the importance of social adaptability in well-being. Scatter plots can reveal trends, and boxplots will indicate distribution differences.\n",
    "\n",
    "Hypothesis:\n",
    "I hypothesize that participants who report more frequent instances of making new friends will have higher life satisfaction. If confirmed, this would underscore the significance of expanding social circles for overall well-being.\n",
    "\n",
    "## Analysis 2: Burnout and Social Distancing During COVID-19\n",
    "Research Question: What is the relationship between the practice of social distancing and feelings of tiredness and depression?\n",
    "\n",
    "Variables to Explore:\n",
    "- Dependent variables: \"WELLNESS_malach_pines_burnout_measure_tired\", \"WELLNESS_malach_pines_burnout_measure_depressed\"\n",
    "- Independent variable: \"COVID_prevention_distancing\"\n",
    "\n",
    "Exploration Plan:\n",
    "I will use logistic regression to assess the impact of social distancing on burnout levels. Summary statistics and bar charts will provide an initial overview of the variable’s distribution.\n",
    "\n",
    "Justification:\n",
    "Analyzing this relationship could reveal whether social distancing contributes to feelings of burnout. This insight could be valuable for managing future public health responses.\n",
    "\n",
    "Hypothesis:\n",
    "I predict that participants who practice social distancing more frequently may report higher levels of tiredness and depression due to isolation. Validating this could inform strategies to mitigate negative impacts while maintaining public safety.\n",
    "\n",
    "## Analysis 3: Video Chats and Sleep Difficulties\n",
    "Research Question: Is there an association between the frequency of video chats and reported difficulties with sleeping?\n",
    "\n",
    "Variables to Explore:\n",
    "- Dependent variable: `WELLNESS_malach_pines_burnout_measure_difficulty_sleeping`\n",
    "- Independent variable: `CONNECTION_activities_video_chat_p3m`\n",
    "\n",
    "Exploration Plan:\n",
    "This analysis will employ chi-square tests for independence to explore the relationship between video chat frequency and sleeping difficulties. Cross-tabulations and bar graphs will illustrate the prevalence of this connection.\n",
    "\n",
    "Justification:\n",
    "Determining whether video chats correlate with sleep issues can offer practical insights into balancing technology use and mental health.\n",
    "\n",
    "Hypothesis:\n",
    "I hypothesize that higher frequency of video chats may be associated with increased sleep difficulties due to potential overstimulation or late-night interactions. If proven, this could guide recommendations for digital detox strategies.\n"
   ]
  },
  {
   "cell_type": "markdown",
   "id": "e5883527",
   "metadata": {},
   "source": [
    "# Note"
   ]
  },
  {
   "cell_type": "markdown",
   "id": "8c50cb1c",
   "metadata": {},
   "source": [
    "I would like to Suhana Bhargava on this group project if possible"
   ]
  }
 ],
 "metadata": {
  "kernelspec": {
   "display_name": "Python 3 (ipykernel)",
   "language": "python",
   "name": "python3"
  },
  "language_info": {
   "codemirror_mode": {
    "name": "ipython",
    "version": 3
   },
   "file_extension": ".py",
   "mimetype": "text/x-python",
   "name": "python",
   "nbconvert_exporter": "python",
   "pygments_lexer": "ipython3",
   "version": "3.11.6"
  }
 },
 "nbformat": 4,
 "nbformat_minor": 5
}
